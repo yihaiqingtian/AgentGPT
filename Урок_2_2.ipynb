{
  "nbformat": 4,
  "nbformat_minor": 0,
  "metadata": {
    "colab": {
      "provenance": [],
      "toc_visible": true,
      "include_colab_link": true
    },
    "kernelspec": {
      "name": "python3",
      "display_name": "Python 3"
    },
    "language_info": {
      "name": "python"
    }
  },
  "cells": [
    {
      "cell_type": "markdown",
      "metadata": {
        "id": "view-in-github",
        "colab_type": "text"
      },
      "source": [
        "<a href=\"https://colab.research.google.com/github/yihaiqingtian/AgentGPT/blob/main/%D0%A3%D1%80%D0%BE%D0%BA_2_2.ipynb\" target=\"_parent\"><img src=\"https://colab.research.google.com/assets/colab-badge.svg\" alt=\"Open In Colab\"/></a>"
      ]
    },
    {
      "cell_type": "markdown",
      "source": [
        "## list\n",
        "\n",
        "**массив, список, лист**\n",
        "\n",
        "Вот мы и добрались до типов языка python, которые представляют собой *контейнеры*, то есть, это типы данных, которые являют собой хранилища для других типов данных.\n",
        "\n",
        "Один из таких типов -- `list` (массив, список, лист). Это контейнер, куда можно положить сколько угодно других переменных, значений, и эти переменные даже могут быть разных типов и даже так же могут быть контейнерами (и даже не обязательно тип данных определен языком python)! То есть, в list можно положить list:\n",
        "\n",
        "Чтобы задать list, надо в квадратные скобки `[]` положить нужные элементы. Пустые скобки задают пустой list. Пустой лист также можно задать, написав `list()`:"
      ],
      "metadata": {
        "id": "0OkhnXraGPyh"
      }
    },
    {
      "cell_type": "code",
      "execution_count": null,
      "metadata": {
        "colab": {
          "base_uri": "https://localhost:8080/"
        },
        "id": "1bH4RvPbF_zj",
        "outputId": "9565e44e-64d9-4751-86a9-4cd8d7ab946b"
      },
      "outputs": [
        {
          "output_type": "stream",
          "name": "stdout",
          "text": [
            "True\n"
          ]
        }
      ],
      "source": [
        "a = list()\n",
        "b = []\n",
        "\n",
        "# убедимся, что два варианта создания пустого массива эквивалентны:\n",
        "print(a == b)"
      ]
    },
    {
      "cell_type": "markdown",
      "source": [
        "По аналогии со строкой, как последовательностью символов, чье значение задавалось перечислением этих символов, значение списка тоже можно задать перечислением его элементов. Отдельные элементы списка разделяются запятой, а весь список заключается в квадратные скобки:\n"
      ],
      "metadata": {
        "id": "EjxmEjIUH3iQ"
      }
    },
    {
      "cell_type": "code",
      "source": [
        "# можно хранить разные типы данных!\n",
        "c = [2, 'a', [4, 'stroka', 6.56]]"
      ],
      "metadata": {
        "id": "nNuWblhpGSYz"
      },
      "execution_count": null,
      "outputs": []
    },
    {
      "cell_type": "markdown",
      "source": [
        "## Операции со списками\n",
        "\n",
        "Списки можно считать обобщением строк в том смысле, что списки - это тоже упорядоченные последовательности, но значения списка могут быть произвольного типа. Большинство операций, описанных ранее для строк, полностью переносятся на списки:\n"
      ],
      "metadata": {
        "id": "GpKA8kQlIIWz"
      }
    },
    {
      "cell_type": "markdown",
      "source": [
        "### Индексация"
      ],
      "metadata": {
        "id": "1QI2-1BCIYbJ"
      }
    },
    {
      "cell_type": "code",
      "source": [
        "# первый элемент, нулевой индекс\n",
        "c[0]"
      ],
      "metadata": {
        "colab": {
          "base_uri": "https://localhost:8080/"
        },
        "id": "AfUAuFztGTkj",
        "outputId": "23509690-a714-4750-f60e-660a377ad98c"
      },
      "execution_count": null,
      "outputs": [
        {
          "output_type": "execute_result",
          "data": {
            "text/plain": [
              "2"
            ]
          },
          "metadata": {},
          "execution_count": 4
        }
      ]
    },
    {
      "cell_type": "code",
      "source": [
        "# последний элемент, индекс 2\n",
        "c[-1]"
      ],
      "metadata": {
        "colab": {
          "base_uri": "https://localhost:8080/"
        },
        "id": "rtGlaOd-IdO5",
        "outputId": "45e1cd68-f9f1-4e05-ba13-40c1d5ac0455"
      },
      "execution_count": null,
      "outputs": [
        {
          "output_type": "execute_result",
          "data": {
            "text/plain": [
              "[4, 'stroka', 6.56]"
            ]
          },
          "metadata": {},
          "execution_count": 5
        }
      ]
    },
    {
      "cell_type": "code",
      "source": [
        "# он же\n",
        "c[2]"
      ],
      "metadata": {
        "colab": {
          "base_uri": "https://localhost:8080/"
        },
        "id": "vd5ce0qUIfHJ",
        "outputId": "d2c0a8f6-325c-463d-fcb6-56a373ca60d6"
      },
      "execution_count": null,
      "outputs": [
        {
          "output_type": "execute_result",
          "data": {
            "text/plain": [
              "[4, 'stroka', 6.56]"
            ]
          },
          "metadata": {},
          "execution_count": 6
        }
      ]
    },
    {
      "cell_type": "code",
      "source": [
        "# ошибка т.к. вышли за пределы массива - list index out of range\n",
        "c[3]"
      ],
      "metadata": {
        "colab": {
          "base_uri": "https://localhost:8080/",
          "height": 183
        },
        "id": "4qjBT7OnIfnx",
        "outputId": "be85860d-8423-4b04-a99f-d1efd82ac2a3"
      },
      "execution_count": null,
      "outputs": [
        {
          "output_type": "error",
          "ename": "IndexError",
          "evalue": "ignored",
          "traceback": [
            "\u001b[0;31m---------------------------------------------------------------------------\u001b[0m",
            "\u001b[0;31mIndexError\u001b[0m                                Traceback (most recent call last)",
            "\u001b[0;32m<ipython-input-7-f3b321d2b260>\u001b[0m in \u001b[0;36m<module>\u001b[0;34m()\u001b[0m\n\u001b[1;32m      1\u001b[0m \u001b[0;31m# ошибка т.к. вышли за пределы массива - list index out of range\u001b[0m\u001b[0;34m\u001b[0m\u001b[0;34m\u001b[0m\u001b[0;34m\u001b[0m\u001b[0m\n\u001b[0;32m----> 2\u001b[0;31m \u001b[0mc\u001b[0m\u001b[0;34m[\u001b[0m\u001b[0;36m3\u001b[0m\u001b[0;34m]\u001b[0m\u001b[0;34m\u001b[0m\u001b[0;34m\u001b[0m\u001b[0m\n\u001b[0m",
            "\u001b[0;31mIndexError\u001b[0m: list index out of range"
          ]
        }
      ]
    },
    {
      "cell_type": "markdown",
      "source": [
        "### Конкатенация"
      ],
      "metadata": {
        "id": "rMtQtJYAI5hv"
      }
    },
    {
      "cell_type": "markdown",
      "source": [
        "Списки можно считать обобщением строк в том смысле, что списки - это тоже упорядоченные последовательности, но значения списка могут быть произвольного типа. Большинство операций, описанных выше для строк, полностью переносятся на списки:"
      ],
      "metadata": {
        "id": "2XiVtvLlIwuY"
      }
    },
    {
      "cell_type": "code",
      "source": [
        "c + [1, 2, 3]"
      ],
      "metadata": {
        "colab": {
          "base_uri": "https://localhost:8080/"
        },
        "id": "uktlHdldIpvo",
        "outputId": "95af036d-b1a2-42ba-c495-cad434d4437d"
      },
      "execution_count": null,
      "outputs": [
        {
          "output_type": "execute_result",
          "data": {
            "text/plain": [
              "[2, 'a', [4, 'stroka', 6.56], 1, 2, 3]"
            ]
          },
          "metadata": {},
          "execution_count": 8
        }
      ]
    },
    {
      "cell_type": "code",
      "source": [
        "c * 2"
      ],
      "metadata": {
        "colab": {
          "base_uri": "https://localhost:8080/"
        },
        "id": "NFvZ9FXXI0dP",
        "outputId": "56e14706-a765-436d-e4c3-49165414da72"
      },
      "execution_count": null,
      "outputs": [
        {
          "output_type": "execute_result",
          "data": {
            "text/plain": [
              "[2, 'a', [4, 'stroka', 6.56], 2, 'a', [4, 'stroka', 6.56]]"
            ]
          },
          "metadata": {},
          "execution_count": 9
        }
      ]
    },
    {
      "cell_type": "markdown",
      "source": [
        "### In, len, sum, all, any\n",
        "\n",
        "Общие методы для разных контейнеров, рассмотрим их на примере списков\n"
      ],
      "metadata": {
        "id": "ZI59YMwQI3uZ"
      }
    },
    {
      "cell_type": "code",
      "source": [
        "2 in c # наличие двойки в тексте"
      ],
      "metadata": {
        "colab": {
          "base_uri": "https://localhost:8080/"
        },
        "id": "rjUlZ5zVI1oP",
        "outputId": "1939ed5f-bc12-46f5-a676-a77c88da521d"
      },
      "execution_count": null,
      "outputs": [
        {
          "output_type": "execute_result",
          "data": {
            "text/plain": [
              "True"
            ]
          },
          "metadata": {},
          "execution_count": 10
        }
      ]
    },
    {
      "cell_type": "code",
      "source": [
        "len(c) # 3 элемента"
      ],
      "metadata": {
        "colab": {
          "base_uri": "https://localhost:8080/"
        },
        "id": "L2uMzfQrJBWH",
        "outputId": "e21e3061-fd59-4e50-aed0-55619b045ef1"
      },
      "execution_count": null,
      "outputs": [
        {
          "output_type": "execute_result",
          "data": {
            "text/plain": [
              "3"
            ]
          },
          "metadata": {},
          "execution_count": 11
        }
      ]
    },
    {
      "cell_type": "code",
      "source": [
        "sum([1, 2, 3])"
      ],
      "metadata": {
        "colab": {
          "base_uri": "https://localhost:8080/"
        },
        "id": "sNhCfsJZXZVB",
        "outputId": "5031a998-bf33-48f7-ccf7-704ecc7ac8a6"
      },
      "execution_count": null,
      "outputs": [
        {
          "output_type": "execute_result",
          "data": {
            "text/plain": [
              "6"
            ]
          },
          "metadata": {},
          "execution_count": 13
        }
      ]
    },
    {
      "cell_type": "markdown",
      "source": [
        "функции all(x) и any(x)\n",
        "\n",
        "Функция all возвращает логическое значение True, если все элементы последовательности равны True (или последовательность пуста) и False в противном случае.\n",
        "\n",
        "Напоминание о приведении типов: к значению True приводятся все отличные от нуля числа и любые непустые последовательности, к значению False приводится число нуль и все пустые последовательности."
      ],
      "metadata": {
        "id": "qHIIB0PoXjSu"
      }
    },
    {
      "cell_type": "code",
      "source": [
        "all([True, True, True])"
      ],
      "metadata": {
        "colab": {
          "base_uri": "https://localhost:8080/"
        },
        "id": "sEHVYw3BXa49",
        "outputId": "39cf9aa0-3fd7-4b0f-ba33-ff8be863c2d0"
      },
      "execution_count": null,
      "outputs": [
        {
          "output_type": "execute_result",
          "data": {
            "text/plain": [
              "True"
            ]
          },
          "metadata": {},
          "execution_count": 18
        }
      ]
    },
    {
      "cell_type": "code",
      "source": [
        "all([True, True, False])"
      ],
      "metadata": {
        "colab": {
          "base_uri": "https://localhost:8080/"
        },
        "id": "5Cko4t7TXeJS",
        "outputId": "300a7d61-b90e-4fe8-cf2e-0e6bb338f71e"
      },
      "execution_count": null,
      "outputs": [
        {
          "output_type": "execute_result",
          "data": {
            "text/plain": [
              "False"
            ]
          },
          "metadata": {},
          "execution_count": 19
        }
      ]
    },
    {
      "cell_type": "markdown",
      "source": [
        "Функция any возвращает логическое значение True, если хотя бы один элемент непустой последовательности\n",
        "равен True. В противном случае, а также если последовательность пуста, возвращает False."
      ],
      "metadata": {
        "id": "wlxVqXCOXufb"
      }
    },
    {
      "cell_type": "code",
      "source": [
        "any([False, False, True])"
      ],
      "metadata": {
        "colab": {
          "base_uri": "https://localhost:8080/"
        },
        "id": "4uD7mmlUXfVu",
        "outputId": "429d1bd6-396a-41fc-81dd-0cfc4c69b18e"
      },
      "execution_count": null,
      "outputs": [
        {
          "output_type": "execute_result",
          "data": {
            "text/plain": [
              "True"
            ]
          },
          "metadata": {},
          "execution_count": 20
        }
      ]
    },
    {
      "cell_type": "code",
      "source": [
        "any([False, False, False])"
      ],
      "metadata": {
        "colab": {
          "base_uri": "https://localhost:8080/"
        },
        "id": "W1fljNDPXzll",
        "outputId": "515a5135-3d5d-4754-c704-c1ba4108af4f"
      },
      "execution_count": null,
      "outputs": [
        {
          "output_type": "execute_result",
          "data": {
            "text/plain": [
              "False"
            ]
          },
          "metadata": {},
          "execution_count": 21
        }
      ]
    },
    {
      "cell_type": "markdown",
      "source": [
        "### Слайсинг (срезы)"
      ],
      "metadata": {
        "id": "pMIGJWn-JKEq"
      }
    },
    {
      "cell_type": "code",
      "source": [
        "# шагаем с нулевого индекса по последний с шагом - 1\n",
        "# это и есть разворот списка\n",
        "c[::-1]"
      ],
      "metadata": {
        "colab": {
          "base_uri": "https://localhost:8080/"
        },
        "id": "TYzEXITiJDhe",
        "outputId": "704ad983-cf49-49a3-f140-8cd83370ae01"
      },
      "execution_count": null,
      "outputs": [
        {
          "output_type": "execute_result",
          "data": {
            "text/plain": [
              "[[4, 'stroka', 6.56], 'a', 2]"
            ]
          },
          "metadata": {},
          "execution_count": 22
        }
      ]
    },
    {
      "cell_type": "code",
      "source": [
        "# с первого включительно по 4й не включя индекс\n",
        "c[1:4]"
      ],
      "metadata": {
        "colab": {
          "base_uri": "https://localhost:8080/"
        },
        "id": "pOWTbLnUJQvF",
        "outputId": "858771d3-25de-4198-e839-99749193a52e"
      },
      "execution_count": null,
      "outputs": [
        {
          "output_type": "execute_result",
          "data": {
            "text/plain": [
              "['a', [4, 'stroka', 6.56]]"
            ]
          },
          "metadata": {},
          "execution_count": 23
        }
      ]
    },
    {
      "cell_type": "code",
      "source": [
        "c[1:]"
      ],
      "metadata": {
        "colab": {
          "base_uri": "https://localhost:8080/"
        },
        "id": "8NfE3B1_JaEM",
        "outputId": "b477ccaf-1d01-46eb-877d-709b2ec346c8"
      },
      "execution_count": null,
      "outputs": [
        {
          "output_type": "execute_result",
          "data": {
            "text/plain": [
              "['a', [4, 'stroka', 6.56]]"
            ]
          },
          "metadata": {},
          "execution_count": 24
        }
      ]
    },
    {
      "cell_type": "code",
      "source": [
        "c[:2]"
      ],
      "metadata": {
        "colab": {
          "base_uri": "https://localhost:8080/"
        },
        "id": "yjyWg-8yJhjM",
        "outputId": "bc40da8d-5ff5-4769-eb7f-1a04f360f51a"
      },
      "execution_count": null,
      "outputs": [
        {
          "output_type": "execute_result",
          "data": {
            "text/plain": [
              "[2, 'a']"
            ]
          },
          "metadata": {},
          "execution_count": 25
        }
      ]
    },
    {
      "cell_type": "code",
      "source": [
        "c[:3:2] # с нулевого включительно по третий не включая с шагом 2"
      ],
      "metadata": {
        "colab": {
          "base_uri": "https://localhost:8080/"
        },
        "id": "08zUcutMJkMU",
        "outputId": "ff79e29e-f802-4b1e-90b3-5a9994627a6b"
      },
      "execution_count": null,
      "outputs": [
        {
          "output_type": "execute_result",
          "data": {
            "text/plain": [
              "[2, [4, 'stroka', 6.56]]"
            ]
          },
          "metadata": {},
          "execution_count": 26
        }
      ]
    },
    {
      "cell_type": "markdown",
      "source": [
        "Важное отличие списков от строк заключается в том, что списки можно изменять - как его отдельные элементы, так и перечень самих элементов (добавлять, удалять элементы из последовательности и т.п.). Ниже указаны некоторые такие операции:"
      ],
      "metadata": {
        "id": "EU7vq8VxKJdP"
      }
    },
    {
      "cell_type": "code",
      "source": [
        "# заменим список на 2м индексе на единицу\n",
        "c[2] = 1"
      ],
      "metadata": {
        "id": "tSQOOoytJqYL"
      },
      "execution_count": null,
      "outputs": []
    },
    {
      "cell_type": "code",
      "source": [
        "# можно увидеть, что значения поменялись\n",
        "c"
      ],
      "metadata": {
        "colab": {
          "base_uri": "https://localhost:8080/"
        },
        "id": "VOsmpwsBLBml",
        "outputId": "e41f4a76-e279-492b-fc75-c84a5f8cb445"
      },
      "execution_count": null,
      "outputs": [
        {
          "output_type": "execute_result",
          "data": {
            "text/plain": [
              "[2, 'a', 1]"
            ]
          },
          "metadata": {},
          "execution_count": 28
        }
      ]
    },
    {
      "cell_type": "code",
      "source": [
        "# кстатис иногда ошибки связаны со сменой раскладки, т.к. ниже русская с а не английская\n",
        "с"
      ],
      "metadata": {
        "colab": {
          "base_uri": "https://localhost:8080/",
          "height": 201
        },
        "id": "UetMnMc8LBvl",
        "outputId": "ff61aebb-910e-4c8b-f35a-fa39b0838ee4"
      },
      "execution_count": null,
      "outputs": [
        {
          "output_type": "error",
          "ename": "NameError",
          "evalue": "ignored",
          "traceback": [
            "\u001b[0;31m---------------------------------------------------------------------------\u001b[0m",
            "\u001b[0;31mNameError\u001b[0m                                 Traceback (most recent call last)",
            "\u001b[0;32m<ipython-input-29-2aef0e6be920>\u001b[0m in \u001b[0;36m<module>\u001b[0;34m()\u001b[0m\n\u001b[1;32m      1\u001b[0m \u001b[0;31m# кстатис иногда ошибки связаны со сменой раскладки, т.к. ниже русская с а не английская\u001b[0m\u001b[0;34m\u001b[0m\u001b[0;34m\u001b[0m\u001b[0;34m\u001b[0m\u001b[0m\n\u001b[0;32m----> 2\u001b[0;31m \u001b[0mс\u001b[0m\u001b[0;34m\u001b[0m\u001b[0;34m\u001b[0m\u001b[0m\n\u001b[0m",
            "\u001b[0;31mNameError\u001b[0m: name 'с' is not defined"
          ]
        }
      ]
    },
    {
      "cell_type": "code",
      "source": [
        "# можно так же заменять целые диапазоны\n",
        "# теперь вместо диапазона начинающегося с 1 индеса включительно\n",
        "# и заканчивающегося на 2 индесе не включая записаны значения 10 и 20\n",
        "c[1:2] = [10, 20]\n",
        "c"
      ],
      "metadata": {
        "colab": {
          "base_uri": "https://localhost:8080/"
        },
        "id": "ZfO0Yz4OLFAE",
        "outputId": "56f9fb7b-619c-4662-e481-8fdc8a3e0b6d"
      },
      "execution_count": null,
      "outputs": [
        {
          "output_type": "execute_result",
          "data": {
            "text/plain": [
              "[2, 10, 20, 1]"
            ]
          },
          "metadata": {},
          "execution_count": 30
        }
      ]
    },
    {
      "cell_type": "markdown",
      "source": [
        "#### Append, pop\n",
        "\n",
        "Эти два метода списка чаще всего используются в реальной работе:\n",
        "\n",
        "\n",
        "c.append(elem)\n",
        "\n",
        "добавление элемента elem в конец списка c:"
      ],
      "metadata": {
        "id": "lGGho2N9L3h7"
      }
    },
    {
      "cell_type": "code",
      "source": [
        "c.append(2)\n",
        "c"
      ],
      "metadata": {
        "colab": {
          "base_uri": "https://localhost:8080/"
        },
        "id": "Jqjbld1ILa-E",
        "outputId": "30f473bc-885a-4bf2-f74d-44201ecba5ea"
      },
      "execution_count": null,
      "outputs": [
        {
          "output_type": "execute_result",
          "data": {
            "text/plain": [
              "[2, 10, 20, 1, 2]"
            ]
          },
          "metadata": {},
          "execution_count": 31
        }
      ]
    },
    {
      "cell_type": "markdown",
      "source": [
        "Разница между конкатенацией и добавлением элемента следующая: в первом случае это создание нового значения и присвоение этого нового значения переменной, во втором случае - это изменение текущего значения. Так что конкатенация определена и для строк и для списков, а добавление элемента - только для списков."
      ],
      "metadata": {
        "id": "lrdziSmMMuoA"
      }
    },
    {
      "cell_type": "markdown",
      "source": [
        "c.pop()"
      ],
      "metadata": {
        "id": "WZQoYL9kMftY"
      }
    },
    {
      "cell_type": "code",
      "source": [
        "c.pop()\n",
        "c"
      ],
      "metadata": {
        "colab": {
          "base_uri": "https://localhost:8080/"
        },
        "id": "y049rUegMDYR",
        "outputId": "cb073ff4-ccd5-4f45-bb30-75eca3f3e82a"
      },
      "execution_count": null,
      "outputs": [
        {
          "output_type": "execute_result",
          "data": {
            "text/plain": [
              "[2, 10, 20, 1]"
            ]
          },
          "metadata": {},
          "execution_count": 32
        }
      ]
    },
    {
      "cell_type": "markdown",
      "source": [
        "Операция pop() имеет возвращаемое значение - элемент, который был удален. Пример использования:"
      ],
      "metadata": {
        "id": "iXSoIDkIOOYU"
      }
    },
    {
      "cell_type": "code",
      "source": [
        "deleted = c.pop()\n",
        "c"
      ],
      "metadata": {
        "colab": {
          "base_uri": "https://localhost:8080/"
        },
        "id": "JodDW5iTONMu",
        "outputId": "f102fcc3-9d94-4d49-b531-2bf7df49798e"
      },
      "execution_count": null,
      "outputs": [
        {
          "output_type": "execute_result",
          "data": {
            "text/plain": [
              "[2, 10, 20]"
            ]
          },
          "metadata": {},
          "execution_count": 33
        }
      ]
    },
    {
      "cell_type": "code",
      "source": [
        "# удаленный элемент, при прошлом запуске\n",
        "# результат возвращения функции pop никуда не был записан\n",
        "deleted"
      ],
      "metadata": {
        "colab": {
          "base_uri": "https://localhost:8080/"
        },
        "id": "8iFCTgweMigv",
        "outputId": "c9801688-7533-46cd-934d-657425d27f66"
      },
      "execution_count": null,
      "outputs": [
        {
          "output_type": "execute_result",
          "data": {
            "text/plain": [
              "1"
            ]
          },
          "metadata": {},
          "execution_count": 34
        }
      ]
    },
    {
      "cell_type": "markdown",
      "source": [
        "### Работа по ссылке\n",
        "\n",
        "Отметим одну важную вещь в устройстве контейнеров python (и не только, библиотеки работают схожим образом):\n",
        "\n"
      ],
      "metadata": {
        "id": "FnYvfrMsP2OB"
      }
    },
    {
      "cell_type": "code",
      "source": [
        "a = [1 , 2 , 3]\n",
        "print(a) # программа выведет [1 , 2 , 3]\n",
        "b = a\n",
        "a[0] = 99\n",
        "print(b) # программа выведет [99 , 2 , 3] , хотя изменяли список a - это связанно с тем, что он был списком из ссылок"
      ],
      "metadata": {
        "colab": {
          "base_uri": "https://localhost:8080/"
        },
        "id": "2oWczDvhORd_",
        "outputId": "d68488a3-fdfe-428f-873f-46ef112389f2"
      },
      "execution_count": null,
      "outputs": [
        {
          "output_type": "stream",
          "name": "stdout",
          "text": [
            "[1, 2, 3]\n",
            "[99, 2, 3]\n"
          ]
        }
      ]
    },
    {
      "cell_type": "markdown",
      "source": [
        "Чтоб избежать такого поведения, можно напрямую вызывать метод copy, который будет возврщать именно копию (физически на оперативной памяти новое пространство) нашего списка, и изменения исходных значений не повлияют на скопированную:"
      ],
      "metadata": {
        "id": "kDV9Q7Z5RFWK"
      }
    },
    {
      "cell_type": "code",
      "source": [
        "a = [1 , 2 , 3]\n",
        "print(a) # программа выведет [1 , 2 , 3]\n",
        "b = a.copy()\n",
        "a[0] = 99\n",
        "print(b) # программа выведет [1 , 2 , 3] , поскольку сделали копию"
      ],
      "metadata": {
        "colab": {
          "base_uri": "https://localhost:8080/"
        },
        "id": "gT7W0yW-QDyv",
        "outputId": "3c597eef-7848-493c-8b88-22c2e57dcc15"
      },
      "execution_count": null,
      "outputs": [
        {
          "output_type": "stream",
          "name": "stdout",
          "text": [
            "[1, 2, 3]\n",
            "[1, 2, 3]\n"
          ]
        }
      ]
    },
    {
      "cell_type": "code",
      "source": [
        "a = [1 , 2 , 3]\n",
        "print(a) # программа выведет [1 , 2 , 3]\n",
        "b = list(a) # аналогичным обарзом работает и явное приведение типов к списку\n",
        "a[0] = 99\n",
        "print(b) # программа выведет [1 , 2 , 3] , поскольку сделали копию"
      ],
      "metadata": {
        "colab": {
          "base_uri": "https://localhost:8080/"
        },
        "id": "5cuZDRY5RVzC",
        "outputId": "c376de0c-8040-464d-e2b5-dbe4096a3cf4"
      },
      "execution_count": null,
      "outputs": [
        {
          "output_type": "stream",
          "name": "stdout",
          "text": [
            "[1, 2, 3]\n",
            "[1, 2, 3]\n"
          ]
        }
      ]
    },
    {
      "cell_type": "markdown",
      "source": [
        "## Прочие встроенные методы"
      ],
      "metadata": {
        "id": "9Ucd7Pn2XMnJ"
      }
    },
    {
      "cell_type": "markdown",
      "source": [
        "### Insert\n",
        "\n",
        "метод a.insert(i, x)\n",
        "\n",
        "Вставляет элемент x в i-ю позицию списка a. Метод insert ничего не возвращает.\n",
        "\n",
        "Действие метода равносильно следующему оператору: a[i:i] = x\n"
      ],
      "metadata": {
        "id": "ll2pfTneaGll"
      }
    },
    {
      "cell_type": "code",
      "source": [
        "a = [1, 2, 3]\n",
        "\n",
        "a.insert(1, 10500)\n",
        "a"
      ],
      "metadata": {
        "colab": {
          "base_uri": "https://localhost:8080/"
        },
        "id": "8Ab1xJbHRc0Z",
        "outputId": "ed947b1f-b068-4848-a264-9ec6d3aabc71"
      },
      "execution_count": null,
      "outputs": [
        {
          "output_type": "execute_result",
          "data": {
            "text/plain": [
              "[1, 10500, 2, 3]"
            ]
          },
          "metadata": {},
          "execution_count": 37
        }
      ]
    },
    {
      "cell_type": "markdown",
      "source": [
        "### Extend\n",
        "\n",
        "a.extend(x)\n",
        "\n",
        "Добавляет список x в конец списка a. Возвращает измененный список a. Действие аналогично операции\n",
        "a = a + x, но выполняется быстрее конкатенации.\n"
      ],
      "metadata": {
        "id": "EF9dXJilaNIa"
      }
    },
    {
      "cell_type": "code",
      "source": [
        "a = [1, 2, 3]\n",
        "a.extend([5, 6])\n",
        "a"
      ],
      "metadata": {
        "colab": {
          "base_uri": "https://localhost:8080/"
        },
        "id": "--f1tmpDaOIK",
        "outputId": "49f84935-ec3f-4120-ab60-0d6b8924a4af"
      },
      "execution_count": null,
      "outputs": [
        {
          "output_type": "execute_result",
          "data": {
            "text/plain": [
              "[1, 2, 3, 5, 6]"
            ]
          },
          "metadata": {},
          "execution_count": 39
        }
      ]
    },
    {
      "cell_type": "markdown",
      "source": [
        "### Pop\n",
        "\n",
        "a.pop(i)\n",
        "\n",
        "Метод удаляет i-й элемент списка a и возвращает этот элемент.\n",
        "\n",
        "Обратите внимание, что параметр i метода pop является необязательным. Если он не указан, то считается, что удаляется последний элемент.\n",
        "Если список пуст, произойдет ошибка.\n"
      ],
      "metadata": {
        "id": "ZhzkmqrWaOjB"
      }
    },
    {
      "cell_type": "code",
      "source": [
        "a = [1, 2, 3]\n",
        "removed = a.pop()\n",
        "a"
      ],
      "metadata": {
        "colab": {
          "base_uri": "https://localhost:8080/"
        },
        "id": "s2D9OjZdaPxK",
        "outputId": "605445ec-56e4-4ea8-8e0b-e3f7541d4c51"
      },
      "execution_count": null,
      "outputs": [
        {
          "output_type": "execute_result",
          "data": {
            "text/plain": [
              "[1, 2]"
            ]
          },
          "metadata": {},
          "execution_count": 40
        }
      ]
    },
    {
      "cell_type": "code",
      "source": [
        "removed"
      ],
      "metadata": {
        "colab": {
          "base_uri": "https://localhost:8080/"
        },
        "id": "MaEHKqxYboMW",
        "outputId": "bd4c5f9f-3756-4a36-e905-1b7c2f60814d"
      },
      "execution_count": null,
      "outputs": [
        {
          "output_type": "execute_result",
          "data": {
            "text/plain": [
              "3"
            ]
          },
          "metadata": {},
          "execution_count": 41
        }
      ]
    },
    {
      "cell_type": "code",
      "source": [
        "a = [1, 2, 3]\n",
        "removed = a.pop(1)\n",
        "a"
      ],
      "metadata": {
        "colab": {
          "base_uri": "https://localhost:8080/"
        },
        "id": "Ooc6_LMTbpkx",
        "outputId": "b30d558f-859a-4912-cd65-10e362e9ee4a"
      },
      "execution_count": null,
      "outputs": [
        {
          "output_type": "execute_result",
          "data": {
            "text/plain": [
              "[1, 3]"
            ]
          },
          "metadata": {},
          "execution_count": 42
        }
      ]
    },
    {
      "cell_type": "code",
      "source": [
        "removed"
      ],
      "metadata": {
        "colab": {
          "base_uri": "https://localhost:8080/"
        },
        "id": "jWI1kD-Kbtra",
        "outputId": "1bf5841b-8186-492e-ab43-90af84b42339"
      },
      "execution_count": null,
      "outputs": [
        {
          "output_type": "execute_result",
          "data": {
            "text/plain": [
              "2"
            ]
          },
          "metadata": {},
          "execution_count": 43
        }
      ]
    },
    {
      "cell_type": "markdown",
      "source": [
        "### Del\n",
        "\n",
        "del a\n",
        "\n",
        "Действие оператора del такое же, как и метода a.pop(x), но в отличие от метода pop оператор del не возвращает никакого значения.\n"
      ],
      "metadata": {
        "id": "KSnpsnwmaQJL"
      }
    },
    {
      "cell_type": "code",
      "source": [
        "del a[0]\n",
        "a"
      ],
      "metadata": {
        "colab": {
          "base_uri": "https://localhost:8080/"
        },
        "id": "d7kfd5xLaSYY",
        "outputId": "668ea810-04cc-418b-93d6-56ce5256831a"
      },
      "execution_count": null,
      "outputs": [
        {
          "output_type": "execute_result",
          "data": {
            "text/plain": [
              "[3]"
            ]
          },
          "metadata": {},
          "execution_count": 44
        }
      ]
    },
    {
      "cell_type": "code",
      "source": [
        "del a\n",
        "a # можно и вовсе удалить переменную, видим, что она теперь не определена"
      ],
      "metadata": {
        "colab": {
          "base_uri": "https://localhost:8080/",
          "height": 183
        },
        "id": "XkChqactb62O",
        "outputId": "a19b577b-2921-4f00-a083-c0afc4aed760"
      },
      "execution_count": null,
      "outputs": [
        {
          "output_type": "error",
          "ename": "NameError",
          "evalue": "ignored",
          "traceback": [
            "\u001b[0;31m---------------------------------------------------------------------------\u001b[0m",
            "\u001b[0;31mNameError\u001b[0m                                 Traceback (most recent call last)",
            "\u001b[0;32m<ipython-input-45-5dba95df1753>\u001b[0m in \u001b[0;36m<module>\u001b[0;34m()\u001b[0m\n\u001b[1;32m      1\u001b[0m \u001b[0;32mdel\u001b[0m \u001b[0ma\u001b[0m\u001b[0;34m\u001b[0m\u001b[0;34m\u001b[0m\u001b[0m\n\u001b[0;32m----> 2\u001b[0;31m \u001b[0ma\u001b[0m \u001b[0;31m# можно и вовсе удалить переменную, видим, что она теперь не определена\u001b[0m\u001b[0;34m\u001b[0m\u001b[0;34m\u001b[0m\u001b[0m\n\u001b[0m",
            "\u001b[0;31mNameError\u001b[0m: name 'a' is not defined"
          ]
        }
      ]
    },
    {
      "cell_type": "markdown",
      "source": [
        "### Remove\n",
        "\n",
        "a.remove(x)\n",
        "Удаляет первое вхождение элемента x из списка a. Аналогично операции del a[t.index(x)]\n"
      ],
      "metadata": {
        "id": "rjwxGmlVaReX"
      }
    },
    {
      "cell_type": "code",
      "source": [
        "a = [1, 2, 3]\n",
        "a.remove(2)\n",
        "a"
      ],
      "metadata": {
        "colab": {
          "base_uri": "https://localhost:8080/"
        },
        "id": "_kXsdO7FaSwq",
        "outputId": "918e2afe-b1b6-401b-96bc-8abec40ee082"
      },
      "execution_count": null,
      "outputs": [
        {
          "output_type": "execute_result",
          "data": {
            "text/plain": [
              "[1, 3]"
            ]
          },
          "metadata": {},
          "execution_count": 60
        }
      ]
    },
    {
      "cell_type": "markdown",
      "source": [
        "### Reverse\n",
        "\n",
        "a.reverse()\n",
        "\n",
        "Разворачивает список a, меняя порядок следования элементов на противоположный. Не возвращает значения."
      ],
      "metadata": {
        "id": "pffaVoTyaVEW"
      }
    },
    {
      "cell_type": "code",
      "source": [
        "a = [1, 2, 3]\n",
        "a.reverse()\n",
        "a"
      ],
      "metadata": {
        "colab": {
          "base_uri": "https://localhost:8080/"
        },
        "id": "IGaXIh5faxKF",
        "outputId": "9186e7f7-fe2f-41b7-da97-f2cf8df65c91"
      },
      "execution_count": null,
      "outputs": [
        {
          "output_type": "execute_result",
          "data": {
            "text/plain": [
              "[3, 2, 1]"
            ]
          },
          "metadata": {},
          "execution_count": 46
        }
      ]
    },
    {
      "cell_type": "markdown",
      "source": [
        "### Sort\n",
        "\n",
        "a.sort([cmp[, key[, reverse]]])\n",
        "\n",
        "Метод сортирует список a в порядке возрастания элементов. Параметры cmp и key метода sort позволяют определять собственный способ сравнения элементов списка, а также, с помощью параметра reverse, получать\n",
        "результат в обратном порядке (вместо дополнительного вызова метода reverse())."
      ],
      "metadata": {
        "id": "_tS6dy3GawXs"
      }
    },
    {
      "cell_type": "code",
      "source": [
        "a = [2, 3, 1]\n",
        "a.sort()\n",
        "a"
      ],
      "metadata": {
        "colab": {
          "base_uri": "https://localhost:8080/"
        },
        "id": "2MjuxxrUauR2",
        "outputId": "e568b441-ecea-46ce-d0ac-dd2d4f859591"
      },
      "execution_count": null,
      "outputs": [
        {
          "output_type": "execute_result",
          "data": {
            "text/plain": [
              "[1, 2, 3]"
            ]
          },
          "metadata": {},
          "execution_count": 64
        }
      ]
    },
    {
      "cell_type": "code",
      "source": [
        "a = [2, 3, 1]\n",
        "a.sort(reverse=True)\n",
        "a"
      ],
      "metadata": {
        "colab": {
          "base_uri": "https://localhost:8080/"
        },
        "id": "23i-5CoxdP4l",
        "outputId": "e4ab4704-3acf-4e6c-abe8-f9c26b13744f"
      },
      "execution_count": null,
      "outputs": [
        {
          "output_type": "execute_result",
          "data": {
            "text/plain": [
              "[3, 2, 1]"
            ]
          },
          "metadata": {},
          "execution_count": 66
        }
      ]
    }
  ]
}