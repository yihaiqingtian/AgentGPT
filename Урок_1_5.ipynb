{
  "nbformat": 4,
  "nbformat_minor": 0,
  "metadata": {
    "colab": {
      "provenance": [],
      "toc_visible": true,
      "include_colab_link": true
    },
    "kernelspec": {
      "name": "python3",
      "display_name": "Python 3"
    },
    "language_info": {
      "name": "python"
    }
  },
  "cells": [
    {
      "cell_type": "markdown",
      "metadata": {
        "id": "view-in-github",
        "colab_type": "text"
      },
      "source": [
        "<a href=\"https://colab.research.google.com/github/yihaiqingtian/AgentGPT/blob/main/%D0%A3%D1%80%D0%BE%D0%BA_1_5.ipynb\" target=\"_parent\"><img src=\"https://colab.research.google.com/assets/colab-badge.svg\" alt=\"Open In Colab\"/></a>"
      ]
    },
    {
      "cell_type": "markdown",
      "source": [
        "## Округление до нужного знака"
      ],
      "metadata": {
        "id": "lqQen08XUYEB"
      }
    },
    {
      "cell_type": "markdown",
      "source": [
        "В языках программирования мы неизбежно столкнемся с невозможностью разложить по степеням двойки единственным способом вещественное число, в отличае от целых чисел. Т.е. не для всех десятичных дробей существует представление в виде конечной суммы дробей вида $\\frac{1}{2^n}$."
      ],
      "metadata": {
        "id": "Jd6gdkxyUZiO"
      }
    },
    {
      "cell_type": "code",
      "execution_count": null,
      "metadata": {
        "id": "k5jMCe1tUOqq"
      },
      "outputs": [],
      "source": [
        "b = 4.2 * 5.1"
      ]
    },
    {
      "cell_type": "code",
      "source": [
        "b"
      ],
      "metadata": {
        "colab": {
          "base_uri": "https://localhost:8080/"
        },
        "id": "m4e6Qo5RUbFR",
        "outputId": "fa350dcd-eba7-4a48-e84a-3f3425b9a543"
      },
      "execution_count": null,
      "outputs": [
        {
          "output_type": "execute_result",
          "data": {
            "text/plain": [
              "21.419999999999998"
            ]
          },
          "metadata": {},
          "execution_count": 2
        }
      ]
    },
    {
      "cell_type": "code",
      "source": [
        "1/3"
      ],
      "metadata": {
        "colab": {
          "base_uri": "https://localhost:8080/"
        },
        "id": "KITDvxJmWc5M",
        "outputId": "962f9c35-5d9b-4f18-833d-299f34b1850c"
      },
      "execution_count": null,
      "outputs": [
        {
          "output_type": "execute_result",
          "data": {
            "text/plain": [
              "0.3333333333333333"
            ]
          },
          "metadata": {},
          "execution_count": 4
        }
      ]
    },
    {
      "cell_type": "code",
      "source": [
        "# если знаков после запятой слишком много - можно просто округлить его до нужного количества (в этом случае 2)\n",
        "round(b, 2)"
      ],
      "metadata": {
        "colab": {
          "base_uri": "https://localhost:8080/"
        },
        "id": "s31HxYsGUcfp",
        "outputId": "09930906-aca5-428a-8465-aec324c481d0"
      },
      "execution_count": null,
      "outputs": [
        {
          "output_type": "execute_result",
          "data": {
            "text/plain": [
              "21.42"
            ]
          },
          "metadata": {},
          "execution_count": 3
        }
      ]
    },
    {
      "cell_type": "markdown",
      "source": [
        "[Полный список встроенных функций](https://pythonworld.ru/osnovy/vstroennye-funkcii.html)\n",
        "\n",
        "\n",
        "Идентификатором в Питоне называется последовательность заглавных латинских букв, строчных латинских букв,\n",
        "знаков подчеркивания и цифр, начинающаяся не с цифры и отличная от служебного слова.\n",
        "\n",
        "Полный список служебных слов языка python:\n",
        "\n",
        "'False', 'None', 'True', 'and', 'as', 'assert', 'break', 'class', 'continue', 'def', 'del', 'elif', 'else', 'except', 'finally', 'for', 'from', 'global', 'if', 'import', 'in', 'is', 'lambda', 'nonlocal', 'not', 'or', 'pass', 'raise', 'return', 'try', 'while', 'with', 'yield'"
      ],
      "metadata": {
        "id": "vQPZTpYkUePm"
      }
    },
    {
      "cell_type": "markdown",
      "source": [
        "## bool\n",
        "\n",
        "**Логический тип переменной**:\n",
        "\n",
        "переменная типа bool может принимать два значения: `True` и `False`:"
      ],
      "metadata": {
        "id": "w8iLBxyVY-hN"
      }
    },
    {
      "cell_type": "code",
      "source": [
        "a = True\n",
        "b = False\n",
        "\n",
        "# появился еще один аргумент: '|'  <- туда можно поставить любой текст, в этом примере для удобства отображения\n",
        "print(a, '|', type(a))\n",
        "\n",
        "print(b, '|', type(b))"
      ],
      "metadata": {
        "colab": {
          "base_uri": "https://localhost:8080/"
        },
        "id": "3D8fsI76ZABx",
        "outputId": "12aa24dc-a86c-4f89-94d5-3d6166997d68"
      },
      "execution_count": null,
      "outputs": [
        {
          "output_type": "stream",
          "name": "stdout",
          "text": [
            "True | <class 'bool'>\n",
            "False | <class 'bool'>\n"
          ]
        }
      ]
    },
    {
      "cell_type": "markdown",
      "source": [
        "Существует 2 типа логических значений : True, False. Логический тип на самом деле является лишь подтипом целого, значение False соответствует нулю, True - любому ненулевому целому числу."
      ],
      "metadata": {
        "id": "lL0FPGmtZG_u"
      }
    },
    {
      "cell_type": "code",
      "source": [
        "True + True"
      ],
      "metadata": {
        "colab": {
          "base_uri": "https://localhost:8080/"
        },
        "id": "ElsKZr6bZPEp",
        "outputId": "c90ecbb8-fa8c-46d8-f1a5-915d295e6645"
      },
      "execution_count": null,
      "outputs": [
        {
          "output_type": "execute_result",
          "data": {
            "text/plain": [
              "2"
            ]
          },
          "metadata": {},
          "execution_count": 9
        }
      ]
    },
    {
      "cell_type": "code",
      "source": [
        "False + False"
      ],
      "metadata": {
        "colab": {
          "base_uri": "https://localhost:8080/"
        },
        "id": "SkGk8ybkZQ_l",
        "outputId": "22e3ce39-e253-4255-d9de-40812d27bbb4"
      },
      "execution_count": null,
      "outputs": [
        {
          "output_type": "execute_result",
          "data": {
            "text/plain": [
              "0"
            ]
          },
          "metadata": {},
          "execution_count": 10
        }
      ]
    },
    {
      "cell_type": "code",
      "source": [
        "False + True"
      ],
      "metadata": {
        "colab": {
          "base_uri": "https://localhost:8080/"
        },
        "id": "LiuG0B0qZSaw",
        "outputId": "15de4b53-22b8-4286-eb74-0fb9c2cf8284"
      },
      "execution_count": null,
      "outputs": [
        {
          "output_type": "execute_result",
          "data": {
            "text/plain": [
              "1"
            ]
          },
          "metadata": {},
          "execution_count": 11
        }
      ]
    },
    {
      "cell_type": "markdown",
      "source": [
        "## Операции сравнения\n",
        "\n",
        "К значениям числовых типов можно применять операции сравнения, результатом выполнения которой является\n",
        "значение логического типа:\n",
        "\n",
        "| Операция | Описание|\n",
        "--- | ---\n",
        "| < | строго меньше |\n",
        "| <= | меньше или равно |\n",
        "| > | строго больше |\n",
        "| >= | больше или равно |\n",
        "| == | равно |\n",
        "| != | не равно |"
      ],
      "metadata": {
        "id": "H9AAIF3JYO61"
      }
    },
    {
      "cell_type": "code",
      "source": [
        "1 < 1"
      ],
      "metadata": {
        "colab": {
          "base_uri": "https://localhost:8080/"
        },
        "id": "Qf-7zC3favOe",
        "outputId": "eb76e532-b796-4b9f-8068-cf3d0e193c4c"
      },
      "execution_count": null,
      "outputs": [
        {
          "output_type": "execute_result",
          "data": {
            "text/plain": [
              "False"
            ]
          },
          "metadata": {},
          "execution_count": 16
        }
      ]
    },
    {
      "cell_type": "code",
      "source": [
        "2 <= 2"
      ],
      "metadata": {
        "colab": {
          "base_uri": "https://localhost:8080/"
        },
        "id": "RDGsL14Na2lu",
        "outputId": "848c6bbc-2214-47b2-f955-473f4ba21dc6"
      },
      "execution_count": null,
      "outputs": [
        {
          "output_type": "execute_result",
          "data": {
            "text/plain": [
              "True"
            ]
          },
          "metadata": {},
          "execution_count": 17
        }
      ]
    },
    {
      "cell_type": "code",
      "source": [
        "6 > -2"
      ],
      "metadata": {
        "colab": {
          "base_uri": "https://localhost:8080/"
        },
        "id": "KqioYy0ua5Ph",
        "outputId": "cb0d6d66-40b8-4211-df45-9e957d05dadc"
      },
      "execution_count": null,
      "outputs": [
        {
          "output_type": "execute_result",
          "data": {
            "text/plain": [
              "True"
            ]
          },
          "metadata": {},
          "execution_count": 18
        }
      ]
    },
    {
      "cell_type": "code",
      "source": [
        "2.1 >= 2"
      ],
      "metadata": {
        "colab": {
          "base_uri": "https://localhost:8080/"
        },
        "id": "yXyEbHeabD0x",
        "outputId": "1a8f1843-ade1-45d2-a2cc-e68697fb5046"
      },
      "execution_count": null,
      "outputs": [
        {
          "output_type": "execute_result",
          "data": {
            "text/plain": [
              "True"
            ]
          },
          "metadata": {},
          "execution_count": 20
        }
      ]
    },
    {
      "cell_type": "code",
      "source": [
        "3 == 3.0"
      ],
      "metadata": {
        "colab": {
          "base_uri": "https://localhost:8080/"
        },
        "id": "DB7_FDM6bH4d",
        "outputId": "777ee1f5-ccc2-4525-bce3-28e15e61bc3b"
      },
      "execution_count": null,
      "outputs": [
        {
          "output_type": "execute_result",
          "data": {
            "text/plain": [
              "True"
            ]
          },
          "metadata": {},
          "execution_count": 21
        }
      ]
    },
    {
      "cell_type": "code",
      "source": [
        "3 != 3"
      ],
      "metadata": {
        "colab": {
          "base_uri": "https://localhost:8080/"
        },
        "id": "M7osLMMHbSnm",
        "outputId": "e119f6be-52f3-423a-c216-4b8479f00aff"
      },
      "execution_count": null,
      "outputs": [
        {
          "output_type": "execute_result",
          "data": {
            "text/plain": [
              "False"
            ]
          },
          "metadata": {},
          "execution_count": 23
        }
      ]
    },
    {
      "cell_type": "markdown",
      "source": [
        "### Комбинация операций сравнения"
      ],
      "metadata": {
        "id": "vwbTtuatc3od"
      }
    },
    {
      "cell_type": "markdown",
      "source": [
        "Бинарная операция логическое \"И\"(and): результат выполнения равен True тогда и только тогда, когда оба\n",
        "операнда равны True, в противном случае результат выполнения равен False."
      ],
      "metadata": {
        "id": "08CtYdPJZwEh"
      }
    },
    {
      "cell_type": "code",
      "source": [
        "print(True and False)"
      ],
      "metadata": {
        "colab": {
          "base_uri": "https://localhost:8080/"
        },
        "id": "uShBkjYBZ6Wf",
        "outputId": "dc7fcda2-08b6-4105-ca88-cde621940649"
      },
      "execution_count": null,
      "outputs": [
        {
          "output_type": "stream",
          "name": "stdout",
          "text": [
            "False\n"
          ]
        }
      ]
    },
    {
      "cell_type": "markdown",
      "source": [
        "Бинарная операция логическое \"ИЛИ\"(or): результат выполнения равен True тогда и только тогда, когда\n",
        "хотя бы один операнд равен True, в противном случае результат выполнения равен False."
      ],
      "metadata": {
        "id": "ZMEysm3LZypb"
      }
    },
    {
      "cell_type": "code",
      "source": [
        "print(True or False)"
      ],
      "metadata": {
        "colab": {
          "base_uri": "https://localhost:8080/"
        },
        "id": "dDrSKs2PZ-Xx",
        "outputId": "9ce39bc7-2636-4bae-bcb6-47ef5b66248a"
      },
      "execution_count": null,
      "outputs": [
        {
          "output_type": "stream",
          "name": "stdout",
          "text": [
            "True\n"
          ]
        }
      ]
    },
    {
      "cell_type": "markdown",
      "source": [
        "Унарная операция логическое \"НЕ\"(not): результат выполнения равен True, если операнд равен False, в противном случае результат выполнения равен False"
      ],
      "metadata": {
        "id": "V8kfXYxeZ0tO"
      }
    },
    {
      "cell_type": "code",
      "source": [
        "print(not False)"
      ],
      "metadata": {
        "colab": {
          "base_uri": "https://localhost:8080/"
        },
        "id": "LPW3-7K6aAs1",
        "outputId": "e738e76d-c15e-4494-d9a0-d6ca8ed3279d"
      },
      "execution_count": null,
      "outputs": [
        {
          "output_type": "stream",
          "name": "stdout",
          "text": [
            "True\n"
          ]
        }
      ]
    },
    {
      "cell_type": "markdown",
      "source": [
        "### Приоритет выполнения операций\n",
        "\n",
        "Cогласно [документации](https://docs.python.org/2/reference/expressions.html).\n",
        "\n",
        "Сравнения можно объединять в цепочки. Например, запись a<b<c разрешена синтаксисом языка Python и имеет общепринятый смысл. Такая запись эквивалентна следующей: a<b and b<c с той разницей, что b вычисляется один раз. Сравнения выполняются слева направо и если не выполнено хотя бы одно, то результат сравнения равен False."
      ],
      "metadata": {
        "id": "dzGaK_pndFnq"
      }
    },
    {
      "cell_type": "markdown",
      "source": [
        "Операция | Описание\n",
        "--- | ---\n",
        "() | скобки\n",
        "** | возведение в степень\n",
        "+x, -x, ∼x | унарный плюс, унарный минус, битовое НЕ\n",
        "*, /, % | умножение, деление, остаток от деления\n",
        "+, - | сложение, вычитание\n",
        "<<,>> | битовые сдвиги\n",
        "& | битовое И\n",
        "ˆ | битовое исключающее ИЛИ\n",
        "\\| | битовое ИЛИ\n",
        "in, not in, is, is not, <, <=, >,>=,<>, !=,== | проверка на принадлежность, на идентичность, сравнения\n",
        "not | логическое НЕ\n",
        "and | логическое И\n",
        "or | логическое ИЛИ"
      ],
      "metadata": {
        "id": "i7x9AezCdP5z"
      }
    },
    {
      "cell_type": "markdown",
      "source": [
        "Все операции, имеющие одинаковый приоритет выполняются слева направо. Исключениями являются сравнения (см. цепочки сравнений выше) и операция возведения в степень, которая выполняется справа налево. Таким образом 2\\*\\*3\\*\\*2 понимается как 2\\*\\*(3\\*\\*2)."
      ],
      "metadata": {
        "id": "L6MPHdjGepqe"
      }
    },
    {
      "cell_type": "markdown",
      "source": [
        "Пример $2^{3^2} + 32 - (\\frac{2}{3}^{-3})^{- \\frac{1}{2}}$ будет записан так:"
      ],
      "metadata": {
        "id": "zsDcWtrsfmZy"
      }
    },
    {
      "cell_type": "code",
      "source": [
        "2**(3**2) + (32 - (2/3)**(-3)) ** (-1/2)"
      ],
      "metadata": {
        "colab": {
          "base_uri": "https://localhost:8080/"
        },
        "id": "YaxN_gBoWktQ",
        "outputId": "1fe581be-892c-4332-90db-5a868a2d1440"
      },
      "execution_count": null,
      "outputs": [
        {
          "output_type": "execute_result",
          "data": {
            "text/plain": [
              "512.1869077254064"
            ]
          },
          "metadata": {},
          "execution_count": 26
        }
      ]
    },
    {
      "cell_type": "markdown",
      "source": [
        "## If\n",
        "\n",
        "**Условный оператор**\n",
        "\n",
        "В коде часто приходится проверять выполнимость или невыполнимость каких-то условий. Синтаксис следующий\n",
        "\n",
        "```\n",
        "if <условие1 (булевское выражение)> :\n",
        "    <код, который выполнится, если условие верно>\n",
        "elif <условие2 (булевское выражение)>:\n",
        "    <код, который выполнится, если условие1 было неверно, а условие2 верно>\n",
        "else:\n",
        "    <код, который выполнится, если условие1 и условие2 были неверны>\n",
        "```\n",
        "\n",
        "Обратите внимание, что код, который должен выполняться внутри каждого условия, записывается с отступом в 4 пробела от уровня if, elif и else: в питоне области видимости переменных обозначаются отступами.\n",
        "\n",
        "*То есть, отступы позволяют понять, где начинается код, который должен выполняться при выполнении условия в if, и где заканчивается*\n",
        "\n",
        "Рассмотрим пример: пусть в нашем коде есть переменная x. Пусть мы хотим вывести на экран сообщение \"x отрицателен\", если x<0, \"x равен нулю\", если x=0 и \"x положителен\", если x>0. Код будет следующий:"
      ],
      "metadata": {
        "id": "T7-caypQiaQK"
      }
    },
    {
      "cell_type": "markdown",
      "source": [
        "Сокращенный синтаксис:\n"
      ],
      "metadata": {
        "id": "DdGOMyJ0ioyj"
      }
    },
    {
      "cell_type": "code",
      "source": [
        "x = 10\n",
        "\n",
        "if x<0:\n",
        "    print(\"x отрицателен\")\n",
        "\n",
        "# этот код уже не \"внутри\" else, потому что записан без отступа в 4 пробела. Поэтому он выполнится\n",
        "# в любом случае после отработки if-elif-else\n",
        "print(\"Done\")"
      ],
      "metadata": {
        "colab": {
          "base_uri": "https://localhost:8080/"
        },
        "id": "x-naYrpvffsv",
        "outputId": "ed6b9710-3897-43d0-9cd1-9a88f84da2a5"
      },
      "execution_count": null,
      "outputs": [
        {
          "output_type": "stream",
          "name": "stdout",
          "text": [
            "Done\n"
          ]
        }
      ]
    },
    {
      "cell_type": "markdown",
      "source": [
        "Расширенный синтаксис:\n"
      ],
      "metadata": {
        "id": "TkLlMYqTir4T"
      }
    },
    {
      "cell_type": "code",
      "source": [
        "x = 10\n",
        "\n",
        "if x<0:\n",
        "    print(\"x отрицателен\")\n",
        "else:\n",
        "    print(\"x положителен\")"
      ],
      "metadata": {
        "colab": {
          "base_uri": "https://localhost:8080/"
        },
        "id": "dJ0zrkeuif_s",
        "outputId": "d812a565-8aa8-433e-a587-9987e329ee8d"
      },
      "execution_count": null,
      "outputs": [
        {
          "output_type": "stream",
          "name": "stdout",
          "text": [
            "x положителен\n"
          ]
        }
      ]
    },
    {
      "cell_type": "markdown",
      "source": [
        "Полный синтаксис:"
      ],
      "metadata": {
        "id": "wxmrG9kzivZS"
      }
    },
    {
      "cell_type": "code",
      "source": [
        "x = 0\n",
        "\n",
        "if x<0:\n",
        "    print(\"x отрицателен\")\n",
        "elif x==0:\n",
        "    print(\"x равен нулю\")\n",
        "else:\n",
        "    print(\"x положителен\")"
      ],
      "metadata": {
        "colab": {
          "base_uri": "https://localhost:8080/"
        },
        "id": "oc2lX9ruik3D",
        "outputId": "78da5c4e-fb1d-4600-9784-d1cbde850697"
      },
      "execution_count": null,
      "outputs": [
        {
          "output_type": "stream",
          "name": "stdout",
          "text": [
            "x равен нулю\n"
          ]
        }
      ]
    },
    {
      "cell_type": "markdown",
      "source": [
        "Конечно, в `if` можно подставлять и более сложные булевские выражения:"
      ],
      "metadata": {
        "id": "XVyVPhfNlS2n"
      }
    },
    {
      "cell_type": "code",
      "source": [
        "if (x>3 and x < 11) or x==5:\n",
        "    print(x)\n",
        "    # тоже выполнится при выполнения условия после if, так как этот код тоже записан с отступом в 4 пробела\n",
        "    print(\"nice\")"
      ],
      "metadata": {
        "id": "u6J2PnVRlE_Y"
      },
      "execution_count": null,
      "outputs": []
    },
    {
      "cell_type": "code",
      "source": [
        "# if внутри if:\n",
        "x = 3\n",
        "y = 5\n",
        "if x == 3:\n",
        "    if y > 6:\n",
        "        # отступ в 4 пробела от внутреннего if\n",
        "        print(\"y больше 6\")\n",
        "    else:\n",
        "        print(\"y не больше 6\")\n",
        "\n",
        "    # отступ в 4 пробела от внешнего if, поэтому код выполнится если x==3 и при любом значении y\n",
        "    print(\"x равен 3\")"
      ],
      "metadata": {
        "colab": {
          "base_uri": "https://localhost:8080/"
        },
        "id": "o071tD04lTn-",
        "outputId": "31608307-dcbf-4857-9288-7b3a6523bddf"
      },
      "execution_count": null,
      "outputs": [
        {
          "output_type": "stream",
          "name": "stdout",
          "text": [
            "y not grater than 6\n",
            "x is equal to 3\n"
          ]
        }
      ]
    },
    {
      "cell_type": "markdown",
      "source": [
        "Здесь нарочно допущена ошибка, чтобы показать важность соблюдения отступов в одну табуляцию:"
      ],
      "metadata": {
        "id": "PzF4t8a0mNYS"
      }
    },
    {
      "cell_type": "code",
      "source": [
        "x = 10\n",
        "\n",
        "if x<0:\n",
        "    print(\"x отрицателен\")\n",
        "else:\n",
        "    print(\"x положителен\")\n",
        "     print('чудесная погода')"
      ],
      "metadata": {
        "colab": {
          "base_uri": "https://localhost:8080/",
          "height": 130
        },
        "id": "mrO3Is1MlUie",
        "outputId": "dc04fb1f-0d23-4b2a-fe72-9c94f50340e1"
      },
      "execution_count": null,
      "outputs": [
        {
          "output_type": "error",
          "ename": "IndentationError",
          "evalue": "ignored",
          "traceback": [
            "\u001b[0;36m  File \u001b[0;32m\"<ipython-input-36-89be1adb872b>\"\u001b[0;36m, line \u001b[0;32m7\u001b[0m\n\u001b[0;31m    print('чудесная погода')\u001b[0m\n\u001b[0m    ^\u001b[0m\n\u001b[0;31mIndentationError\u001b[0m\u001b[0;31m:\u001b[0m unexpected indent\n"
          ]
        }
      ]
    },
    {
      "cell_type": "code",
      "source": [],
      "metadata": {
        "id": "AgfNRHAwmS3C"
      },
      "execution_count": null,
      "outputs": []
    }
  ]
}